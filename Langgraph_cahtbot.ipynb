{
 "cells": [
  {
   "cell_type": "code",
   "execution_count": 4,
   "metadata": {},
   "outputs": [],
   "source": [
    "# to manage state of session\n",
    "from typing import Annotated \n",
    "from typing_extensions import TypedDict\n"
   ]
  },
  {
   "cell_type": "code",
   "execution_count": 5,
   "metadata": {},
   "outputs": [],
   "source": [
    "from langchain_community.utilities import ArxivAPIWrapper, WikipediaAPIWrapper\n",
    "from langchain_community.tools import ArxivQueryRun, WikipediaQueryRun"
   ]
  },
  {
   "cell_type": "code",
   "execution_count": 8,
   "metadata": {},
   "outputs": [],
   "source": [
    "arxiv_wrapper = ArxivAPIWrapper(top_k_results=1, doc_content_chars_max=300)\n",
    "arxiv_tool = ArxivQueryRun(api_wrapper=arxiv_wrapper)\n",
    "\n",
    "api_wrapper = WikipediaAPIWrapper(top_k_results=1, doc_content_chars_max=300)\n",
    "wiki_tool = WikipediaQueryRun(api_wrapper=api_wrapper)"
   ]
  },
  {
   "cell_type": "code",
   "execution_count": 11,
   "metadata": {},
   "outputs": [
    {
     "data": {
      "text/plain": [
       "\"Page: Musicians who oppose Donald Trump's use of their music\\nSummary: A major aspect of Donald Trump's presidential election campaigns, in his 2016, 2020 and 2024 campaigns, are his prominent and frequent political rallies. Below are musicians who have voiced opposition to their music being used by \""
      ]
     },
     "execution_count": 11,
     "metadata": {},
     "output_type": "execute_result"
    }
   ],
   "source": [
    "wiki_tool.invoke(\"who is Donald trump\")"
   ]
  },
  {
   "cell_type": "code",
   "execution_count": 12,
   "metadata": {},
   "outputs": [
    {
     "data": {
      "text/plain": [
       "\"Published: 2024-07-22\\nTitle: Attention Is All You Need But You Don't Need All Of It For Inference of Large Language Models\\nAuthors: Georgy Tyukin, Gbetondji J-S Dovonon, Jean Kaddour, Pasquale Minervini\\nSummary: The inference demand for LLMs has skyrocketed in recent months, and serving\\nmodels with \""
      ]
     },
     "execution_count": 12,
     "metadata": {},
     "output_type": "execute_result"
    }
   ],
   "source": [
    "arxiv_tool.invoke(\"Attention all you need\")"
   ]
  },
  {
   "cell_type": "code",
   "execution_count": 13,
   "metadata": {},
   "outputs": [],
   "source": [
    "tools = [wiki_tool]"
   ]
  },
  {
   "cell_type": "code",
   "execution_count": 15,
   "metadata": {},
   "outputs": [],
   "source": [
    "from langgraph.graph.message import add_messages"
   ]
  },
  {
   "cell_type": "code",
   "execution_count": 18,
   "metadata": {},
   "outputs": [],
   "source": [
    "### Langgraph application\n",
    "class State(TypedDict):\n",
    "    messages:Annotated[list,add_messages]"
   ]
  },
  {
   "cell_type": "code",
   "execution_count": 19,
   "metadata": {},
   "outputs": [],
   "source": [
    "from langgraph.graph import StateGraph,START,END"
   ]
  },
  {
   "cell_type": "code",
   "execution_count": 20,
   "metadata": {},
   "outputs": [],
   "source": [
    "graph_builder = StateGraph(State)"
   ]
  },
  {
   "cell_type": "code",
   "execution_count": 21,
   "metadata": {},
   "outputs": [],
   "source": [
    "from langchain_groq import ChatGroq"
   ]
  },
  {
   "cell_type": "code",
   "execution_count": 27,
   "metadata": {},
   "outputs": [
    {
     "data": {
      "text/plain": [
       "True"
      ]
     },
     "execution_count": 27,
     "metadata": {},
     "output_type": "execute_result"
    }
   ],
   "source": [
    "from dotenv import load_dotenv\n",
    "load_dotenv()"
   ]
  },
  {
   "cell_type": "code",
   "execution_count": 32,
   "metadata": {},
   "outputs": [],
   "source": [
    "import os\n",
    "groq_api_key = os.getenv(\"GROQ_API_KEY\")"
   ]
  },
  {
   "cell_type": "code",
   "execution_count": 37,
   "metadata": {},
   "outputs": [],
   "source": [
    "llm = ChatGroq(groq_api_key= groq_api_key, model_name=\"Gemma2-9b-It\")"
   ]
  },
  {
   "cell_type": "code",
   "execution_count": 38,
   "metadata": {},
   "outputs": [
    {
     "data": {
      "text/plain": [
       "AIMessage(content=\"GenAI, which stands for **Generative Artificial Intelligence**, is a type of artificial intelligence that focuses on creating new content. \\n\\nThink of it like this:\\n\\n* **Traditional AI** is good at analyzing existing data and making predictions based on patterns it finds. \\n* **GenAI** takes it a step further by learning the underlying structure and rules of data, and then using that knowledge to generate brand new, original content.\\n\\n**Here are some examples of what GenAI can do:**\\n\\n* **Write text:**  \\n\\nStories, articles, poems, code, scripts, emails, letters, etc.\\n\\n* **Create images:**  Photos, artwork, illustrations, logos, etc.\\n\\n* **Compose music:**  Original songs, melodies, soundtracks, etc.\\n\\n* **Generate videos:**  Animated videos, short films, marketing content, etc.\\n\\n* **Translate languages:**  Convert text from one language to another.\\n* **Summarize text:**  Condense large amounts of text into shorter summaries.\\n\\n**Some popular GenAI models include:**\\n\\n* **GPT-3 (Generative Pre-trained Transformer 3):**  A powerful text-generating model developed by OpenAI.\\n* **DALL-E 2:**  A model from OpenAI that can create realistic images from text descriptions.\\n* **Midjourney:**  An AI art generator accessible through a Discord server.\\n* **Stable Diffusion:**  An open-source image generation model.\\n\\n**GenAI is rapidly evolving and has the potential to revolutionize many industries.**\\n\\nIt's important to note that GenAI is still under development and can sometimes produce inaccurate or biased results. It's crucial to use it responsibly and ethically.\\n\", response_metadata={'token_usage': {'completion_tokens': 360, 'prompt_tokens': 13, 'total_tokens': 373, 'completion_time': 0.654545455, 'prompt_time': 0.00015352, 'queue_time': 0.07041617, 'total_time': 0.654698975}, 'model_name': 'Gemma2-9b-It', 'system_fingerprint': 'fp_10c08bf97d', 'finish_reason': 'stop', 'logprobs': None}, id='run-dce59f54-2834-4b65-9883-ce5d719b4c4e-0', usage_metadata={'input_tokens': 13, 'output_tokens': 360, 'total_tokens': 373})"
      ]
     },
     "execution_count": 38,
     "metadata": {},
     "output_type": "execute_result"
    }
   ],
   "source": [
    "llm.invoke(\"what is genai\")"
   ]
  },
  {
   "cell_type": "code",
   "execution_count": 40,
   "metadata": {},
   "outputs": [],
   "source": [
    "llm_with_tools = llm.bind_tools(tools=tools)"
   ]
  },
  {
   "cell_type": "code",
   "execution_count": 41,
   "metadata": {},
   "outputs": [],
   "source": [
    "def chatbot(state:State):\n",
    "    return {\"messages\":[llm_with_tools.invoke(state[\"messages\"])]}"
   ]
  },
  {
   "cell_type": "code",
   "execution_count": 42,
   "metadata": {},
   "outputs": [],
   "source": [
    "from langgraph.prebuilt import ToolNode,tools_condition"
   ]
  },
  {
   "cell_type": "code",
   "execution_count": 43,
   "metadata": {},
   "outputs": [],
   "source": [
    "graph_builder.add_node(\"chatbot\",chatbot)\n",
    "graph_builder.add_edge(START,\"chatbot\")\n",
    "tool_node = ToolNode(tools=tools)\n",
    "graph_builder.add_node(\"tools\",tool_node)\n",
    "\n",
    "graph_builder.add_conditional_edges(\n",
    "    \"chatbot\",\n",
    "    tools_condition\n",
    ")\n",
    "\n",
    "graph_builder.add_edge(\"tools\",\"chatbot\")\n",
    "graph_builder.add_edge(\"chatbot\",END)"
   ]
  },
  {
   "cell_type": "code",
   "execution_count": 44,
   "metadata": {},
   "outputs": [],
   "source": [
    "graph = graph_builder.compile()"
   ]
  },
  {
   "cell_type": "code",
   "execution_count": 45,
   "metadata": {},
   "outputs": [
    {
     "data": {
      "image/jpeg": "[encoded data removed]",
      "text/plain": [
       "<IPython.core.display.Image object>"
      ]
     },
     "metadata": {},
     "output_type": "display_data"
    }
   ],
   "source": [
    "from IPython.display import Image, display\n",
    "try:\n",
    "    display(Image(graph.get_graph().draw_mermaid_png()))\n",
    "except Exception:\n",
    "    pass"
   ]
  },
  {
   "cell_type": "code",
   "execution_count": 47,
   "metadata": {},
   "outputs": [
    {
     "name": "stdout",
     "output_type": "stream",
     "text": [
      "================================\u001b[1m Human Message \u001b[0m=================================\n",
      "\n",
      "Hi there!, My name is asif\n",
      "==================================\u001b[1m Ai Message \u001b[0m==================================\n",
      "Tool Calls:\n",
      "  wikipedia (call_phzg)\n",
      " Call ID: call_phzg\n",
      "  Args:\n",
      "    query: Asif\n",
      "=================================\u001b[1m Tool Message \u001b[0m=================================\n",
      "Name: wikipedia\n",
      "\n",
      "Page: Asif\n",
      "Summary: Asif (Arabic: آصف) is an Arabic masculine given name. In Persian and Urdu it is often pronounced as 'Asif' or 'Asef' though the original form is 'Asaf'. This name referred to Solomon's vizier in the Islamic tradition, and by extension to a wise, prudential figure. It was original\n",
      "==================================\u001b[1m Ai Message \u001b[0m==================================\n",
      "Tool Calls:\n",
      "  wikipedia (call_age2)\n",
      " Call ID: call_age2\n",
      "  Args:\n",
      "    query: Solomon's vizier\n",
      "=================================\u001b[1m Tool Message \u001b[0m=================================\n",
      "Name: wikipedia\n",
      "\n",
      "Page: Asif\n",
      "Summary: Asif (Arabic: آصف) is an Arabic masculine given name. In Persian and Urdu it is often pronounced as 'Asif' or 'Asef' though the original form is 'Asaf'. This name referred to Solomon's vizier in the Islamic tradition, and by extension to a wise, prudential figure. It was original\n",
      "==================================\u001b[1m Ai Message \u001b[0m==================================\n",
      "\n",
      "That's interesting!  Do you want to know more about Solomon's Vizier?\n"
     ]
    }
   ],
   "source": [
    "user_input = \"Hi there!, My name is asif\"\n",
    "events = graph.stream(\n",
    "    {\"messages\":[(\"user\",user_input)]}, stream_mode = \"values\"\n",
    ")\n",
    "\n",
    "for event in events:\n",
    "    event[\"messages\"][-1].pretty_print()"
   ]
  },
  {
   "cell_type": "code",
   "execution_count": 48,
   "metadata": {},
   "outputs": [
    {
     "name": "stdout",
     "output_type": "stream",
     "text": [
      "================================\u001b[1m Human Message \u001b[0m=================================\n",
      "\n",
      "Hi there!, My name is aamir zamman\n",
      "==================================\u001b[1m Ai Message \u001b[0m==================================\n",
      "Tool Calls:\n",
      "  wikipedia (call_7v5y)\n",
      " Call ID: call_7v5y\n",
      "  Args:\n",
      "    query: Aamir Zamman\n",
      "=================================\u001b[1m Tool Message \u001b[0m=================================\n",
      "Name: wikipedia\n",
      "\n",
      "Page: NA-141 Sahiwal-I\n",
      "Summary: NA-141 Sahiwal-I (این اے-141، ساہِيوال-۱) is a constituency for the National Assembly of Pakistan.\n",
      "==================================\u001b[1m Ai Message \u001b[0m==================================\n",
      "Tool Calls:\n",
      "  wikipedia (call_pcer)\n",
      " Call ID: call_pcer\n",
      "  Args:\n",
      "    query: National Assembly of Pakistan\n",
      "=================================\u001b[1m Tool Message \u001b[0m=================================\n",
      "Name: wikipedia\n",
      "\n",
      "Page: National Assembly of Pakistan\n",
      "Summary: The National Assembly of Pakistan (Urdu: ایوانِ زیریں, romanized: Aiwān-e-Zairīñ, IPA: [ɛːʋɑːn-e zɛːrĩː ˌpɑːkɪst̪ɑːn], lit. 'Lower house' or Urdu: قومی اسمبلی, romanized: Qọ̄mī Assembly) is the lower house of the bicameral Parliament of Pakistan, with the\n",
      "==================================\u001b[1m Ai Message \u001b[0m==================================\n",
      "\n",
      "It appears you are asking about the National Assembly of Pakistan.  \n",
      "\n",
      "The National Assembly is the lower house of the bicameral Parliament of Pakistan.\n"
     ]
    }
   ],
   "source": [
    "user_input = \"Hi there!, My name is aamir zamman\"\n",
    "events = graph.stream(\n",
    "    {\"messages\":[(\"user\",user_input)]}, stream_mode = \"values\"\n",
    ")\n",
    "\n",
    "for event in events:\n",
    "    event[\"messages\"][-1].pretty_print()"
   ]
  },
  {
   "cell_type": "code",
   "execution_count": 49,
   "metadata": {},
   "outputs": [
    {
     "name": "stdout",
     "output_type": "stream",
     "text": [
      "================================\u001b[1m Human Message \u001b[0m=================================\n",
      "\n",
      "Hi there!, My name is aaqil qureshi\n",
      "==================================\u001b[1m Ai Message \u001b[0m==================================\n",
      "Tool Calls:\n",
      "  wikipedia (call_rx12)\n",
      " Call ID: call_rx12\n",
      "  Args:\n",
      "    query: aaqil qureshi\n",
      "=================================\u001b[1m Tool Message \u001b[0m=================================\n",
      "Name: wikipedia\n",
      "\n",
      "Page: Ahmedpur East\n",
      "Summary: Ahmedpur East or Ahmedpur Sharqia (احمد پُور شرقیہ), also spelled Ahmadpur, Ahmed Pur or Ahmad Pur, is a city in Bahawalpur District, Punjab province, Pakistan. It is the headquarters of Ahmadpur East Tehsil. It is the 69th largest city of Pakistan according to the 2017 \n",
      "==================================\u001b[1m Ai Message \u001b[0m==================================\n",
      "Tool Calls:\n",
      "  wikipedia (call_antq)\n",
      " Call ID: call_antq\n",
      "  Args:\n",
      "    query: aaqil qureshi\n",
      "=================================\u001b[1m Tool Message \u001b[0m=================================\n",
      "Name: wikipedia\n",
      "\n",
      "Page: Ahmedpur East\n",
      "Summary: Ahmedpur East or Ahmedpur Sharqia (احمد پُور شرقیہ), also spelled Ahmadpur, Ahmed Pur or Ahmad Pur, is a city in Bahawalpur District, Punjab province, Pakistan. It is the headquarters of Ahmadpur East Tehsil. It is the 69th largest city of Pakistan according to the 2017 \n",
      "==================================\u001b[1m Ai Message \u001b[0m==================================\n",
      "\n",
      "That information doesn't seem to be helpful. Can you tell me more about yourself?\n"
     ]
    }
   ],
   "source": [
    "user_input = \"Hi there!, My name is aaqil qureshi\"\n",
    "events = graph.stream(\n",
    "    {\"messages\":[(\"user\",user_input)]}, stream_mode = \"values\"\n",
    ")\n",
    "\n",
    "for event in events:\n",
    "    event[\"messages\"][-1].pretty_print()"
   ]
  },
  {
   "cell_type": "code",
   "execution_count": 50,
   "metadata": {},
   "outputs": [
    {
     "name": "stdout",
     "output_type": "stream",
     "text": [
      "================================\u001b[1m Human Message \u001b[0m=================================\n",
      "\n",
      "Hi there!, My name imran khan\n",
      "==================================\u001b[1m Ai Message \u001b[0m==================================\n",
      "Tool Calls:\n",
      "  wikipedia (call_hbmy)\n",
      " Call ID: call_hbmy\n",
      "  Args:\n",
      "    query: imran khan\n",
      "=================================\u001b[1m Tool Message \u001b[0m=================================\n",
      "Name: wikipedia\n",
      "\n",
      "Page: Imran Khan\n",
      "Summary: Imran Ahmed Khan Niazi (Urdu: عمران احمد خان نیازی , pronounced [ɪmɾaːn ɛɦməd xaːn nɪjaːziː]; born 5 October 1952) is a Pakistani politician and former cricketer who served as the 22nd prime minister of Pakistan from August 2018 until April 2022. He is the founder and forme\n",
      "==================================\u001b[1m Ai Message \u001b[0m==================================\n",
      "Tool Calls:\n",
      "  wikipedia (call_bwkp)\n",
      " Call ID: call_bwkp\n",
      "  Args:\n",
      "    query: imran khan cricket career\n",
      "=================================\u001b[1m Tool Message \u001b[0m=================================\n",
      "Name: wikipedia\n",
      "\n",
      "Page: Family of Imran Khan\n",
      "Summary: The family of Imran Khan, the former Prime Minister of Pakistan and former captain of the Pakistan cricket team, is a prominent Pakistani family active in politics and sports. It was formerly the First Family of Pakistan. Imran Khan was born on 5 October 1952 in L\n",
      "==================================\u001b[1m Ai Message \u001b[0m==================================\n",
      "\n",
      "It appears you are asking about Imran Khan's career as a cricketer.  He is widely regarded as one of the greatest all-rounders of all time.  Would you like to know more about a specific aspect of his cricketing career, such as his batting style, bowling statistics, or major achievements?\n"
     ]
    }
   ],
   "source": [
    "user_input = \"Hi there!, My name imran khan\"\n",
    "events = graph.stream(\n",
    "    {\"messages\":[(\"user\",user_input)]}, stream_mode = \"values\"\n",
    ")\n",
    "\n",
    "for event in events:\n",
    "    event[\"messages\"][-1].pretty_print()"
   ]
  }
 ],
 "metadata": {
  "kernelspec": {
   "display_name": "Python 3",
   "language": "python",
   "name": "python3"
  },
  "language_info": {
   "codemirror_mode": {
    "name": "ipython",
    "version": 3
   },
   "file_extension": ".py",
   "mimetype": "text/x-python",
   "name": "python",
   "nbconvert_exporter": "python",
   "pygments_lexer": "ipython3",
   "version": "3.12.0"
  }
 },
 "nbformat": 4,
 "nbformat_minor": 2
}
